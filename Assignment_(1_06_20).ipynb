{
  "nbformat": 4,
  "nbformat_minor": 0,
  "metadata": {
    "colab": {
      "name": "Assignment (1-06-20)",
      "provenance": []
    },
    "kernelspec": {
      "name": "python3",
      "display_name": "Python 3"
    }
  },
  "cells": [
    {
      "cell_type": "code",
      "metadata": {
        "id": "EKoKWv3kIIWc",
        "colab_type": "code",
        "colab": {
          "base_uri": "https://localhost:8080/",
          "height": 151
        },
        "outputId": "4ef4f32e-92d9-4263-9785-0b6637928137"
      },
      "source": [
        "l1=[\"attractive\",\"bald\",\"beautiful\",\"chubby\",\"clean\",\"dazzling\",\"drab\",\"elegant\",\"fancy\",\"fit\"]\n",
        "l2=[\"area\",\"book\",\"business\",\"case\",\"child\",\"company\",\"country\",\"day\",\"eye\",\"fact\"]\n",
        "l3=[\"!\",\"@\",\"#\",\"$\",\"%\",\"*\"]\n",
        "import random\n",
        "while True:\n",
        "    x=str(random.choice(l1))\n",
        "    y=str(random.choice(l2))\n",
        "    z=str(random.randint(0,100))\n",
        "    r=str(random.choice(l3))\n",
        "    print(str(x+y+z+r))\n",
        "    pwd=input(\"do you want another password \")\n",
        "    if pwd==\"no\":\n",
        "        break\n",
        "    else:\n",
        "        continue"
      ],
      "execution_count": 3,
      "outputs": [
        {
          "output_type": "stream",
          "text": [
            "cleanarea38*\n",
            "do you want another password yes\n",
            "baldeye75%\n",
            "do you want another password yes\n",
            "cleanbook26*\n",
            "do you want another password yes\n",
            "elegantfact42*\n",
            "do you want another password no\n"
          ],
          "name": "stdout"
        }
      ]
    }
  ]
}