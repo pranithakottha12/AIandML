{
  "nbformat": 4,
  "nbformat_minor": 0,
  "metadata": {
    "colab": {
      "name": "Untitled13.ipynb",
      "provenance": [],
      "collapsed_sections": [],
      "authorship_tag": "ABX9TyPnY4CilmKGD1m9Cei/BmNi",
      "include_colab_link": true
    },
    "kernelspec": {
      "name": "python3",
      "display_name": "Python 3"
    }
  },
  "cells": [
    {
      "cell_type": "markdown",
      "metadata": {
        "id": "view-in-github",
        "colab_type": "text"
      },
      "source": [
        "<a href=\"https://colab.research.google.com/github/pranithakottha12/AIandML/blob/master/Untitled13.ipynb\" target=\"_parent\"><img src=\"https://colab.research.google.com/assets/colab-badge.svg\" alt=\"Open In Colab\"/></a>"
      ]
    },
    {
      "cell_type": "code",
      "metadata": {
        "id": "ppSp9FnDaH9Y",
        "colab_type": "code",
        "colab": {}
      },
      "source": [
        ""
      ],
      "execution_count": 0,
      "outputs": []
    },
    {
      "cell_type": "code",
      "metadata": {
        "id": "pS8wQM9DbNGu",
        "colab_type": "code",
        "colab": {
          "base_uri": "https://localhost:8080/",
          "height": 34
        },
        "outputId": "ec6b848a-f3cf-4867-c7b7-64a678dcb77a"
      },
      "source": [
        "s1 = \"Hello\"\n",
        "s2 = 'Good Afternoon'\n",
        "print(type(s1),type(s2))\n"
      ],
      "execution_count": 1,
      "outputs": [
        {
          "output_type": "stream",
          "text": [
            "<class 'str'> <class 'str'>\n"
          ],
          "name": "stdout"
        }
      ]
    },
    {
      "cell_type": "code",
      "metadata": {
        "id": "M6ChLoDVbpK4",
        "colab_type": "code",
        "colab": {
          "base_uri": "https://localhost:8080/",
          "height": 50
        },
        "outputId": "ea9531be-8a5a-49a5-d8e7-f0fb044e67a1"
      },
      "source": [
        "s1 = input(\"enter a string\")\n",
        "s2 = 'Good Afternoon'\n",
        "print(type(s1),type(s2))"
      ],
      "execution_count": 7,
      "outputs": [
        {
          "output_type": "stream",
          "text": [
            "enter a stringhello\n",
            "<class 'str'> <class 'str'>\n"
          ],
          "name": "stdout"
        }
      ]
    },
    {
      "cell_type": "code",
      "metadata": {
        "id": "dyjk-0EMcqV0",
        "colab_type": "code",
        "colab": {
          "base_uri": "https://localhost:8080/",
          "height": 67
        },
        "outputId": "c642ce45-3c90-4671-b51c-418ec60f94ba"
      },
      "source": [
        "#operators : +,*(repitition),[](slice)\n",
        "print(s1 + s2)\n",
        "print(s1 * 3)\n",
        "print()\n"
      ],
      "execution_count": 10,
      "outputs": [
        {
          "output_type": "stream",
          "text": [
            "helloGood Afternoon\n",
            "hellohellohello\n",
            "\n"
          ],
          "name": "stdout"
        }
      ]
    },
    {
      "cell_type": "code",
      "metadata": {
        "id": "aoCm_BCZdUOl",
        "colab_type": "code",
        "colab": {
          "base_uri": "https://localhost:8080/",
          "height": 84
        },
        "outputId": "97b6633b-1608-474a-bc74-330b380d79b4"
      },
      "source": [
        "#operators : +,*(repitition),[](slice)\n",
        "print(s1 + s2)#concationation\n",
        "print(s1 * 3)#repitition\n",
        "print(s1[4])#slicing\n",
        "print(s1[-1])#slicing\n",
        "print(s1[2:])#start=0,stop=length of string,step=1\n"
      ],
      "execution_count": 11,
      "outputs": [
        {
          "output_type": "stream",
          "text": [
            "helloGood Afternoon\n",
            "hellohellohello\n",
            "o\n",
            "o\n"
          ],
          "name": "stdout"
        }
      ]
    },
    {
      "cell_type": "code",
      "metadata": {
        "id": "yAHLxygcfjpP",
        "colab_type": "code",
        "colab": {
          "base_uri": "https://localhost:8080/",
          "height": 50
        },
        "outputId": "c25c742e-93b1-4cb5-d99f-3f1f13968b40"
      },
      "source": [
        "print(s1[0:5])\n",
        "print(s1[:])"
      ],
      "execution_count": 12,
      "outputs": [
        {
          "output_type": "stream",
          "text": [
            "hello\n",
            "hello\n"
          ],
          "name": "stdout"
        }
      ]
    },
    {
      "cell_type": "code",
      "metadata": {
        "id": "EMDeROEVfscA",
        "colab_type": "code",
        "colab": {
          "base_uri": "https://localhost:8080/",
          "height": 34
        },
        "outputId": "2b9f81d3-a588-479b-d804-3404085bed2e"
      },
      "source": [
        "#Alternate characters of string\n",
        "print(s1[::2])"
      ],
      "execution_count": 13,
      "outputs": [
        {
          "output_type": "stream",
          "text": [
            "hlo\n"
          ],
          "name": "stdout"
        }
      ]
    },
    {
      "cell_type": "code",
      "metadata": {
        "id": "oOqCXftWgM8k",
        "colab_type": "code",
        "colab": {
          "base_uri": "https://localhost:8080/",
          "height": 50
        },
        "outputId": "b74c7025-fe6d-4985-f91e-27230a303919"
      },
      "source": [
        "#Accept a string from the user and check whwther it is palindrome or not\n",
        "s3 = input(\"enter a string\")\n",
        "if s3 == s3[::-1]:\n",
        "    print(\"the given string is a palindrome\")\n",
        "else:\n",
        "   print(\"the given string is not a palindrome\")\n"
      ],
      "execution_count": 20,
      "outputs": [
        {
          "output_type": "stream",
          "text": [
            "enter a stringabc\n",
            "the given string is not a palindrome\n"
          ],
          "name": "stdout"
        }
      ]
    },
    {
      "cell_type": "code",
      "metadata": {
        "id": "DB4bARqThnPs",
        "colab_type": "code",
        "colab": {
          "base_uri": "https://localhost:8080/",
          "height": 50
        },
        "outputId": "7ed8c582-9fd6-445a-ebbc-b5d510d721d8"
      },
      "source": [
        "n = int(input(\"enter a number\"))\n",
        "if str(n) == str(n)[::-1]:\n",
        "   print(\"the given number is palindrome\")\n",
        "else:\n",
        "    print(\"the given number is not a palindrome\")"
      ],
      "execution_count": 23,
      "outputs": [
        {
          "output_type": "stream",
          "text": [
            "enter a number121\n",
            "the given number is palindrome\n"
          ],
          "name": "stdout"
        }
      ]
    },
    {
      "cell_type": "code",
      "metadata": {
        "id": "RUawauftihv4",
        "colab_type": "code",
        "colab": {
          "base_uri": "https://localhost:8080/",
          "height": 84
        },
        "outputId": "fab5dd89-fa8d-4abc-b495-39f8c90f6074"
      },
      "source": [
        "s4 = \"python\"\n",
        "print(\"on\" in s4)\n",
        "print(\"xyz\" in s4)\n",
        "print(\"on\" not in s4)\n",
        "print(\"xyz\" not in s4)\n"
      ],
      "execution_count": 26,
      "outputs": [
        {
          "output_type": "stream",
          "text": [
            "True\n",
            "False\n",
            "False\n",
            "True\n"
          ],
          "name": "stdout"
        }
      ]
    },
    {
      "cell_type": "code",
      "metadata": {
        "id": "9jLAJ63KjXXd",
        "colab_type": "code",
        "colab": {}
      },
      "source": [
        ""
      ],
      "execution_count": 0,
      "outputs": []
    },
    {
      "cell_type": "markdown",
      "metadata": {
        "id": "o_98DBjekMlt",
        "colab_type": "text"
      },
      "source": [
        "### built_in functions:\n",
        "1.len()\n",
        "2.max()\n",
        "3.min()\n",
        "4.str()\n"
      ]
    },
    {
      "cell_type": "code",
      "metadata": {
        "id": "ED32f3i_ka4D",
        "colab_type": "code",
        "colab": {
          "base_uri": "https://localhost:8080/",
          "height": 101
        },
        "outputId": "b0cac052-0ea8-4210-c203-69fd8aaeab47"
      },
      "source": [
        "s = \"hello\"\n",
        "s1 = \"abc123\"\n",
        "print(len(s))\n",
        "print(max(s))\n",
        "print(min(s))\n",
        "print(max(s1))\n",
        "print(min(s1))"
      ],
      "execution_count": 27,
      "outputs": [
        {
          "output_type": "stream",
          "text": [
            "5\n",
            "o\n",
            "e\n",
            "c\n",
            "1\n"
          ],
          "name": "stdout"
        }
      ]
    },
    {
      "cell_type": "code",
      "metadata": {
        "id": "md0qkIEkk4nx",
        "colab_type": "code",
        "colab": {
          "base_uri": "https://localhost:8080/",
          "height": 34
        },
        "outputId": "778f2d85-9599-4bf8-e47c-284991664565"
      },
      "source": [
        "ord('a')"
      ],
      "execution_count": 28,
      "outputs": [
        {
          "output_type": "execute_result",
          "data": {
            "text/plain": [
              "97"
            ]
          },
          "metadata": {
            "tags": []
          },
          "execution_count": 28
        }
      ]
    },
    {
      "cell_type": "code",
      "metadata": {
        "id": "PRVmbMi0lM8r",
        "colab_type": "code",
        "colab": {
          "base_uri": "https://localhost:8080/",
          "height": 34
        },
        "outputId": "7752e51a-d39a-42f6-e14c-b324d3fc2ebb"
      },
      "source": [
        "chr(97)"
      ],
      "execution_count": 30,
      "outputs": [
        {
          "output_type": "execute_result",
          "data": {
            "text/plain": [
              "'a'"
            ]
          },
          "metadata": {
            "tags": []
          },
          "execution_count": 30
        }
      ]
    },
    {
      "cell_type": "markdown",
      "metadata": {
        "id": "eT18EXGil9lN",
        "colab_type": "text"
      },
      "source": [
        "### built-in methods:\n",
        "1.capital()\n",
        "2.isalpha()\n",
        "3.isdigit()\n",
        "4.isalnum()"
      ]
    },
    {
      "cell_type": "code",
      "metadata": {
        "id": "3Zpz0W6gmOnm",
        "colab_type": "code",
        "colab": {
          "base_uri": "https://localhost:8080/",
          "height": 67
        },
        "outputId": "617cf361-cf0f-4b37-cd80-ccdd1783fc3e"
      },
      "source": [
        "s = \"hello\"\n",
        "print(len(s))#function name(object name)\n",
        "print(s.capitalize())#object name.method name()\n",
        "print(s)"
      ],
      "execution_count": 32,
      "outputs": [
        {
          "output_type": "stream",
          "text": [
            "5\n",
            "Hello\n",
            "hello\n"
          ],
          "name": "stdout"
        }
      ]
    },
    {
      "cell_type": "code",
      "metadata": {
        "id": "gXbSPHvonLBp",
        "colab_type": "code",
        "colab": {
          "base_uri": "https://localhost:8080/",
          "height": 229
        },
        "outputId": "ebc96994-574a-4830-c228-ff49674c6daf"
      },
      "source": [
        "s1 = \"hello\"\n",
        "s2 = \"abc123\"\n",
        "s3 = \"123\"\n",
        "print(s1.isaplha())#true\n",
        "print(s1.isdigit())#false\n",
        "print(s1 . isalnum())#true\n",
        "print(s1 . isaplha())#false\n",
        "print(s1 . isdigit())#false\n",
        "print(s1 . isalnum())#true\n",
        "print(s1 . isaplha())#false\n",
        "print(s1 . isdigit())#true\n",
        "print(s1 . isalnum())#true"
      ],
      "execution_count": 36,
      "outputs": [
        {
          "output_type": "error",
          "ename": "AttributeError",
          "evalue": "ignored",
          "traceback": [
            "\u001b[0;31m---------------------------------------------------------------------------\u001b[0m",
            "\u001b[0;31mAttributeError\u001b[0m                            Traceback (most recent call last)",
            "\u001b[0;32m<ipython-input-36-d60bbfe3dff2>\u001b[0m in \u001b[0;36m<module>\u001b[0;34m()\u001b[0m\n\u001b[1;32m      2\u001b[0m \u001b[0ms2\u001b[0m \u001b[0;34m=\u001b[0m \u001b[0;34m\"abc123\"\u001b[0m\u001b[0;34m\u001b[0m\u001b[0;34m\u001b[0m\u001b[0m\n\u001b[1;32m      3\u001b[0m \u001b[0ms3\u001b[0m \u001b[0;34m=\u001b[0m \u001b[0;34m\"123\"\u001b[0m\u001b[0;34m\u001b[0m\u001b[0;34m\u001b[0m\u001b[0m\n\u001b[0;32m----> 4\u001b[0;31m \u001b[0mprint\u001b[0m\u001b[0;34m(\u001b[0m\u001b[0ms1\u001b[0m \u001b[0;34m.\u001b[0m \u001b[0misaplha\u001b[0m\u001b[0;34m(\u001b[0m\u001b[0;34m)\u001b[0m\u001b[0;34m)\u001b[0m\u001b[0;31m#true\u001b[0m\u001b[0;34m\u001b[0m\u001b[0;34m\u001b[0m\u001b[0m\n\u001b[0m\u001b[1;32m      5\u001b[0m \u001b[0mprint\u001b[0m\u001b[0;34m(\u001b[0m\u001b[0ms1\u001b[0m \u001b[0;34m.\u001b[0m \u001b[0misdigit\u001b[0m\u001b[0;34m(\u001b[0m\u001b[0;34m)\u001b[0m\u001b[0;34m)\u001b[0m\u001b[0;31m#false\u001b[0m\u001b[0;34m\u001b[0m\u001b[0;34m\u001b[0m\u001b[0m\n\u001b[1;32m      6\u001b[0m \u001b[0mprint\u001b[0m\u001b[0;34m(\u001b[0m\u001b[0ms1\u001b[0m \u001b[0;34m.\u001b[0m \u001b[0misalnum\u001b[0m\u001b[0;34m(\u001b[0m\u001b[0;34m)\u001b[0m\u001b[0;34m)\u001b[0m\u001b[0;31m#true\u001b[0m\u001b[0;34m\u001b[0m\u001b[0;34m\u001b[0m\u001b[0m\n",
            "\u001b[0;31mAttributeError\u001b[0m: 'str' object has no attribute 'isaplha'"
          ]
        }
      ]
    },
    {
      "cell_type": "code",
      "metadata": {
        "id": "djXUFMX3qLUD",
        "colab_type": "code",
        "colab": {
          "base_uri": "https://localhost:8080/",
          "height": 84
        },
        "outputId": "a3793821-0a36-4a91-b7ea-a7cee2ec0cb2"
      },
      "source": [
        "s1 = \"python\"\n",
        "s2 = \"PYTHON\"\n",
        "print(s1.isupper())\n",
        "print(s2.isupper())\n",
        "print(s1.islower())\n",
        "print(s2.islower())"
      ],
      "execution_count": 38,
      "outputs": [
        {
          "output_type": "stream",
          "text": [
            "False\n",
            "True\n",
            "True\n",
            "False\n"
          ],
          "name": "stdout"
        }
      ]
    },
    {
      "cell_type": "code",
      "metadata": {
        "id": "UwdEMsTvsHUv",
        "colab_type": "code",
        "colab": {
          "base_uri": "https://localhost:8080/",
          "height": 67
        },
        "outputId": "cf57fa40-7cb5-4a8d-b34b-023a1e76d1b1"
      },
      "source": [
        "print(s1.upper())\n",
        "print(s1.lower())\n",
        "print(s1.swapcase())"
      ],
      "execution_count": 39,
      "outputs": [
        {
          "output_type": "stream",
          "text": [
            "PYTHON\n",
            "python\n",
            "PYTHON\n"
          ],
          "name": "stdout"
        }
      ]
    },
    {
      "cell_type": "code",
      "metadata": {
        "id": "67Onr3oMsVkP",
        "colab_type": "code",
        "colab": {
          "base_uri": "https://localhost:8080/",
          "height": 34
        },
        "outputId": "3b444160-5a1b-4a8e-8c27-564c26801a6a"
      },
      "source": [
        "s = \"PYthON\"\n",
        "print(s.swapcase())"
      ],
      "execution_count": 40,
      "outputs": [
        {
          "output_type": "stream",
          "text": [
            "pyTHon\n"
          ],
          "name": "stdout"
        }
      ]
    },
    {
      "cell_type": "code",
      "metadata": {
        "id": "whs73nz4srWP",
        "colab_type": "code",
        "colab": {
          "base_uri": "https://localhost:8080/",
          "height": 34
        },
        "outputId": "4bc3534c-9a9b-4468-87b6-b8cad21cc5b9"
      },
      "source": [
        "s = \"abc abc abc\"\n",
        "s.count(\"abc\")"
      ],
      "execution_count": 41,
      "outputs": [
        {
          "output_type": "execute_result",
          "data": {
            "text/plain": [
              "3"
            ]
          },
          "metadata": {
            "tags": []
          },
          "execution_count": 41
        }
      ]
    },
    {
      "cell_type": "code",
      "metadata": {
        "id": "8FL-aV1WtIvq",
        "colab_type": "code",
        "colab": {
          "base_uri": "https://localhost:8080/",
          "height": 50
        },
        "outputId": "07e5e3d9-f91e-4304-c9cb-5adf930eb12d"
      },
      "source": [
        "#slice()\n",
        "print(s.split())\n",
        "s1 = \"a,b,c,d\"\n",
        "print(s1.split(\",\"))"
      ],
      "execution_count": 44,
      "outputs": [
        {
          "output_type": "stream",
          "text": [
            "['abc', 'abc', 'abc']\n",
            "['a', 'b', 'c', 'd']\n"
          ],
          "name": "stdout"
        }
      ]
    },
    {
      "cell_type": "code",
      "metadata": {
        "id": "uIKVAS-rtnQ1",
        "colab_type": "code",
        "colab": {
          "base_uri": "https://localhost:8080/",
          "height": 34
        },
        "outputId": "d41002e4-0349-431d-97cf-c891bee4d193"
      },
      "source": [
        "#replace\n",
        "s = \"abc\"#azc\n",
        "s = s.replace('b','z')\n",
        "print(s)"
      ],
      "execution_count": 48,
      "outputs": [
        {
          "output_type": "stream",
          "text": [
            "azc\n"
          ],
          "name": "stdout"
        }
      ]
    },
    {
      "cell_type": "markdown",
      "metadata": {
        "id": "3mI0HHJjvmY-",
        "colab_type": "text"
      },
      "source": [
        "# accept a number from the user and remove nth position.\n",
        "#character from the string\n",
        "# n = 3\n",
        "# s = bacabc\n",
        "\n",
        "# output : ababc"
      ]
    },
    {
      "cell_type": "code",
      "metadata": {
        "id": "M5yr6nR_wenZ",
        "colab_type": "code",
        "colab": {
          "base_uri": "https://localhost:8080/",
          "height": 67
        },
        "outputId": "e8bef91b-497e-473b-da7d-f1faa056a8d8"
      },
      "source": [
        "n = int(input(\"enter position\"))\n",
        "s = input(\"enter a string: \")\n",
        "print(s.replace(s[n-1],\"\",1))"
      ],
      "execution_count": 51,
      "outputs": [
        {
          "output_type": "stream",
          "text": [
            "enter position3\n",
            "enter a string: abcabc\n",
            "ababc\n"
          ],
          "name": "stdout"
        }
      ]
    },
    {
      "cell_type": "markdown",
      "metadata": {
        "id": "s2dkKJRYzOq9",
        "colab_type": "text"
      },
      "source": [
        "#for loop:\n",
        "1. for loop with range() function\n",
        "2. for loop with iterable object"
      ]
    },
    {
      "cell_type": "markdown",
      "metadata": {
        "id": "CkCrboXIzgnM",
        "colab_type": "text"
      },
      "source": [
        "'''for variable_name in range(start,stop,step):\n",
        "          statement'''"
      ]
    },
    {
      "cell_type": "code",
      "metadata": {
        "id": "SDo79Q7Uzy9p",
        "colab_type": "code",
        "colab": {
          "base_uri": "https://localhost:8080/",
          "height": 50
        },
        "outputId": "7ca77a86-c674-4605-9348-9844589d87a5"
      },
      "source": [
        "#print 1-n numbers on the screen\n",
        "n = 10\n",
        "for i in range(1,n+1):\n",
        "    print(i,end=\" \")\n",
        "print()\n",
        "i = 1\n",
        "while i<=n:\n",
        "   print(i,end=\" \")\n",
        "   i += 1\n",
        " "
      ],
      "execution_count": 58,
      "outputs": [
        {
          "output_type": "stream",
          "text": [
            "1 2 3 4 5 6 7 8 9 10 \n",
            "1 2 3 4 5 6 7 8 9 10 "
          ],
          "name": "stdout"
        }
      ]
    },
    {
      "cell_type": "markdown",
      "metadata": {
        "id": "59mWQe5M1SYt",
        "colab_type": "text"
      },
      "source": [
        "'''for variable in iterable obj:\n",
        "       statements"
      ]
    },
    {
      "cell_type": "code",
      "metadata": {
        "id": "DGtY0Ufh1jMa",
        "colab_type": "code",
        "colab": {
          "base_uri": "https://localhost:8080/",
          "height": 118
        },
        "outputId": "6af35751-8213-4f68-dc7b-d2111942463e"
      },
      "source": [
        "s = \"pyhton\"\n",
        "for i in s:\n",
        "     print(i)"
      ],
      "execution_count": 59,
      "outputs": [
        {
          "output_type": "stream",
          "text": [
            "p\n",
            "y\n",
            "h\n",
            "t\n",
            "o\n",
            "n\n"
          ],
          "name": "stdout"
        }
      ]
    },
    {
      "cell_type": "markdown",
      "metadata": {
        "id": "QIQT1aio2Tee",
        "colab_type": "text"
      },
      "source": [
        "#using while loop print all the characters of you string"
      ]
    },
    {
      "cell_type": "code",
      "metadata": {
        "id": "5hDGcdWa2zD1",
        "colab_type": "code",
        "colab": {
          "base_uri": "https://localhost:8080/",
          "height": 252
        },
        "outputId": "414e2af7-1cb0-483c-c759-1e553c4920a1"
      },
      "source": [
        "i=0\n",
        "while(i<len(s)):\n",
        "    print(s[i])\n",
        "    i+=1\n",
        "#using for loop but you should use                 object\n",
        "for j in range(0,len(s)):\n",
        "    print(s[j])\n"
      ],
      "execution_count": 62,
      "outputs": [
        {
          "output_type": "stream",
          "text": [
            "A\n",
            "I\n",
            "a\n",
            "n\n",
            "d\n",
            "M\n",
            "L\n",
            "A\n",
            "I\n",
            "a\n",
            "n\n",
            "d\n",
            "M\n",
            "L\n"
          ],
          "name": "stdout"
        }
      ]
    },
    {
      "cell_type": "markdown",
      "metadata": {
        "id": "OR6qe0Je4_CW",
        "colab_type": "text"
      },
      "source": [
        "#1.Accept a string fron the user  ansd count no.of vowels,conconents and special characters\n",
        "#2. count the no.of paris of a given string\n",
        "   string --> \"abbaaccbbaa\"\n",
        "   output --> 2\n",
        "#3. string -->"
      ]
    },
    {
      "cell_type": "code",
      "metadata": {
        "id": "vKDn_uPD5aH0",
        "colab_type": "code",
        "colab": {}
      },
      "source": [
        ""
      ],
      "execution_count": 0,
      "outputs": []
    }
  ]
}