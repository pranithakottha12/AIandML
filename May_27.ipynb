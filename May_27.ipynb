{
  "nbformat": 4,
  "nbformat_minor": 0,
  "metadata": {
    "colab": {
      "name": "May 27",
      "provenance": []
    },
    "kernelspec": {
      "name": "python3",
      "display_name": "Python 3"
    }
  },
  "cells": [
    {
      "cell_type": "code",
      "metadata": {
        "id": "RlxmBNs9QGHY",
        "colab_type": "code",
        "colab": {}
      },
      "source": [
        ""
      ],
      "execution_count": null,
      "outputs": []
    },
    {
      "cell_type": "markdown",
      "metadata": {
        "id": "f86g7gfxTq-3",
        "colab_type": "text"
      },
      "source": [
        ""
      ]
    },
    {
      "cell_type": "markdown",
      "metadata": {
        "id": "eBML0oaZUIMj",
        "colab_type": "text"
      },
      "source": [
        "Headings:\n"
      ]
    },
    {
      "cell_type": "markdown",
      "metadata": {
        "id": "XTIAzW5pUK9y",
        "colab_type": "text"
      },
      "source": [
        "#PYTHON PROGTAMMING\n",
        "## PYTHON PROGRAMMING\n",
        "### PYTHON PROGRAMMING\n",
        "####PYTHON PROGRAMMING\n",
        "#####PYTHON PROGRAMMING\n",
        "######PYTHON PROGRAMMING\n"
      ]
    },
    {
      "cell_type": "markdown",
      "metadata": {
        "id": "oJmzMHNDcQxz",
        "colab_type": "text"
      },
      "source": [
        ""
      ]
    },
    {
      "cell_type": "code",
      "metadata": {
        "id": "ICU5zTiKVETS",
        "colab_type": "code",
        "colab": {
          "base_uri": "https://localhost:8080/",
          "height": 34
        },
        "outputId": "a044e9db-8724-42a0-a772-88a22c9c0bdc"
      },
      "source": [
        "print(\"hello world\")"
      ],
      "execution_count": null,
      "outputs": [
        {
          "output_type": "stream",
          "text": [
            "hello world\n"
          ],
          "name": "stdout"
        }
      ]
    },
    {
      "cell_type": "markdown",
      "metadata": {
        "id": "lkPbyildWfxa",
        "colab_type": "text"
      },
      "source": [
        "### list of languages\n",
        "1. python\n",
        "2. java\n",
        "3. c\n",
        "4. c++\n"
      ]
    },
    {
      "cell_type": "markdown",
      "metadata": {
        "id": "AhuJH3znW3wT",
        "colab_type": "text"
      },
      "source": [
        ""
      ]
    },
    {
      "cell_type": "code",
      "metadata": {
        "id": "6rHoPml2XQXj",
        "colab_type": "code",
        "colab": {}
      },
      "source": [
        ""
      ],
      "execution_count": null,
      "outputs": []
    },
    {
      "cell_type": "markdown",
      "metadata": {
        "colab_type": "text",
        "id": "7fWojiwaXeoD"
      },
      "source": [
        "### list of languages\n",
        "- python\n",
        "- java\n",
        "- c\n",
        "- c++\n"
      ]
    },
    {
      "cell_type": "code",
      "metadata": {
        "id": "bq19WKxJX5M4",
        "colab_type": "code",
        "colab": {
          "base_uri": "https://localhost:8080/",
          "height": 34
        },
        "outputId": "259aab10-5d01-4f20-c399-b32cad8c0af1"
      },
      "source": [
        "print(\"hello\")"
      ],
      "execution_count": null,
      "outputs": [
        {
          "output_type": "stream",
          "text": [
            "hello\n"
          ],
          "name": "stdout"
        }
      ]
    },
    {
      "cell_type": "code",
      "metadata": {
        "id": "XsOQm3t5YxdL",
        "colab_type": "code",
        "colab": {
          "base_uri": "https://localhost:8080/",
          "height": 34
        },
        "outputId": "3b6c7091-61cc-4f57-c876-ca597686027e"
      },
      "source": [
        "print(\"hi\")"
      ],
      "execution_count": null,
      "outputs": [
        {
          "output_type": "stream",
          "text": [
            "hi\n"
          ],
          "name": "stdout"
        }
      ]
    },
    {
      "cell_type": "code",
      "metadata": {
        "id": "C0AUMbD7Y4EB",
        "colab_type": "code",
        "colab": {
          "base_uri": "https://localhost:8080/",
          "height": 34
        },
        "outputId": "ad456509-9c95-48ac-cecb-d9229ce69614"
      },
      "source": [
        "print(\"hello\")"
      ],
      "execution_count": null,
      "outputs": [
        {
          "output_type": "stream",
          "text": [
            "hello\n"
          ],
          "name": "stdout"
        }
      ]
    },
    {
      "cell_type": "code",
      "metadata": {
        "id": "et-MILhdaBwK",
        "colab_type": "code",
        "colab": {}
      },
      "source": [
        ""
      ],
      "execution_count": null,
      "outputs": []
    },
    {
      "cell_type": "markdown",
      "metadata": {
        "id": "gBc_0VrAaOds",
        "colab_type": "text"
      },
      "source": [
        "- **python programming**"
      ]
    },
    {
      "cell_type": "markdown",
      "metadata": {
        "id": "bme29pCkabdQ",
        "colab_type": "text"
      },
      "source": [
        "- *python programming*"
      ]
    },
    {
      "cell_type": "code",
      "metadata": {
        "id": "VAwFYI0YafqW",
        "colab_type": "code",
        "colab": {}
      },
      "source": [
        ""
      ],
      "execution_count": null,
      "outputs": []
    },
    {
      "cell_type": "markdown",
      "metadata": {
        "id": "xwHiqeRwaqRP",
        "colab_type": "text"
      },
      "source": [
        "click here for document[link text](https://github.com/adavenibhavana/datasciences)"
      ]
    },
    {
      "cell_type": "markdown",
      "metadata": {
        "id": "aNb1scXkc0kQ",
        "colab_type": "text"
      },
      "source": [
        "[link text](https://www.google.co.in/url?sa=i&url=https%3A%2F%2Fwww.pexels.com%2Fsearch%2Fflower%2F&psig=AOvVaw2xt1k9r_YC7g9tVmII3ZD9&ust=1590657428516000&source=images&cd=vfe&ved=0CAIQjRxqFwoTCMDNiura0-kCFQAAAAAdAAAAABAM)"
      ]
    },
    {
      "cell_type": "code",
      "metadata": {
        "id": "drZKQU6VbCYi",
        "colab_type": "code",
        "colab": {}
      },
      "source": [
        ""
      ],
      "execution_count": null,
      "outputs": []
    },
    {
      "cell_type": "markdown",
      "metadata": {
        "id": "07hK28-tb9sY",
        "colab_type": "text"
      },
      "source": [
        "![image](https://images.pexels.com/photos/736230/pexels-photo-736230.jpeg?auto=compress&cs=tinysrgb&dpr=1&w=500)"
      ]
    },
    {
      "cell_type": "markdown",
      "metadata": {
        "id": "NvAjgVIncSrq",
        "colab_type": "text"
      },
      "source": [
        ""
      ]
    },
    {
      "cell_type": "markdown",
      "metadata": {
        "id": "kcoy1Z07fAHT",
        "colab_type": "text"
      },
      "source": [
        "1. dynamically types programming\n",
        "2. different paradigms\n",
        "3. open source\n",
        "4. object oriented pl\n",
        "5. different paradigms"
      ]
    },
    {
      "cell_type": "markdown",
      "metadata": {
        "id": "WGO0WgOAet6C",
        "colab_type": "text"
      },
      "source": [
        "### numeric data types\n",
        "1. int\n",
        "2. float\n",
        "3. complex"
      ]
    },
    {
      "cell_type": "code",
      "metadata": {
        "id": "BZTH0VkGd1Fe",
        "colab_type": "code",
        "colab": {}
      },
      "source": [
        ""
      ],
      "execution_count": null,
      "outputs": []
    },
    {
      "cell_type": "code",
      "metadata": {
        "id": "AFFPDRo9e5Ux",
        "colab_type": "code",
        "colab": {
          "base_uri": "https://localhost:8080/",
          "height": 34
        },
        "outputId": "1ccfe3dc-91d2-46bd-f87d-1798ff046d79"
      },
      "source": [
        "a=10\n",
        "b=2.3\n",
        "c=12+3j\n",
        "print(type(a),type(b),type(c))"
      ],
      "execution_count": null,
      "outputs": [
        {
          "output_type": "stream",
          "text": [
            "<class 'int'> <class 'float'> <class 'complex'>\n"
          ],
          "name": "stdout"
        }
      ]
    },
    {
      "cell_type": "code",
      "metadata": {
        "id": "ZNKYnn_qfkxU",
        "colab_type": "code",
        "colab": {
          "base_uri": "https://localhost:8080/",
          "height": 102
        },
        "outputId": "c01a826a-4a48-4abb-fe0d-0517fb6b608b"
      },
      "source": [
        "c1=4+5j\n",
        "c2=6+4j\n",
        "print(c1+c2)\n",
        "print(c1.real,c2.real)\n",
        "print(c1.imag,c2.imag)\n",
        "print(c1-c2)\n",
        "print(c2-c1)"
      ],
      "execution_count": null,
      "outputs": [
        {
          "output_type": "stream",
          "text": [
            "(10+9j)\n",
            "4.0 6.0\n",
            "5.0 4.0\n",
            "(-2+1j)\n",
            "(2-1j)\n"
          ],
          "name": "stdout"
        }
      ]
    },
    {
      "cell_type": "code",
      "metadata": {
        "id": "1zW0D1rbg3RE",
        "colab_type": "code",
        "colab": {
          "base_uri": "https://localhost:8080/",
          "height": 51
        },
        "outputId": "422bd9e5-51c8-4fd2-81f7-064d4dd0c44c"
      },
      "source": [
        "#input and output functions\n",
        "a=input(\"enter value\")\n",
        "print(a)"
      ],
      "execution_count": null,
      "outputs": [
        {
          "output_type": "stream",
          "text": [
            "enter value4\n",
            "4\n"
          ],
          "name": "stdout"
        }
      ]
    },
    {
      "cell_type": "code",
      "metadata": {
        "id": "sHLJTLvZhrw2",
        "colab_type": "code",
        "colab": {
          "base_uri": "https://localhost:8080/",
          "height": 68
        },
        "outputId": "3e115034-2b27-4973-f0b7-6c1f4e321e1e"
      },
      "source": [
        "a=int(input(\"enter a value\"))\n",
        "b=int(input(\"enter b value\"))\n",
        "print(a+b,end=\" \")\n",
        "print(a-b,a*b,a/b,sep=\",\")"
      ],
      "execution_count": null,
      "outputs": [
        {
          "output_type": "stream",
          "text": [
            "enter a value56\n",
            "enter b value67\n",
            "123 -11,3752,0.835820895522388\n"
          ],
          "name": "stdout"
        }
      ]
    },
    {
      "cell_type": "markdown",
      "metadata": {
        "id": "21YCkwAvkokc",
        "colab_type": "text"
      },
      "source": [
        "##operators:symbol which performs some specific task\n",
        "##operands:values given to operator are known as operands"
      ]
    },
    {
      "cell_type": "code",
      "metadata": {
        "id": "fBajODEZiPAj",
        "colab_type": "code",
        "colab": {
          "base_uri": "https://localhost:8080/",
          "height": 170
        },
        "outputId": "179a41f8-4dad-47c1-d5f8-fe1e89d04d8a"
      },
      "source": [
        "#arithmetic operators :+,-,/,%,//,**\n",
        "a=int(input(\"a value\"))\n",
        "b=int(input(\"b value\"))\n",
        "print(a +b )\n",
        "print(a - b)\n",
        "print(a * b)\n",
        "print(a / b)\n",
        "print(a % b)\n",
        "print(a // b)\n",
        "print(a ** b)\n"
      ],
      "execution_count": null,
      "outputs": [
        {
          "output_type": "stream",
          "text": [
            "a value4\n",
            "b value4\n",
            "8\n",
            "0\n",
            "16\n",
            "1.0\n",
            "0\n",
            "1\n",
            "256\n"
          ],
          "name": "stdout"
        }
      ]
    },
    {
      "cell_type": "code",
      "metadata": {
        "id": "LnpFa1_3lZ4e",
        "colab_type": "code",
        "colab": {
          "base_uri": "https://localhost:8080/",
          "height": 68
        },
        "outputId": "ea8cabec-fd38-4220-cb11-5758656444e0"
      },
      "source": [
        "#relational operators:<,>,<=,>=,==,!=\n",
        "a=int(input(\"a value\"))\n",
        "b=int(input(\"b value\"))\n",
        "print(a > b,a < b,a == b,a <= b,a >= b,a != b,end=\" \")"
      ],
      "execution_count": null,
      "outputs": [
        {
          "output_type": "stream",
          "text": [
            "a value30\n",
            "b value30\n",
            "False False True True True False "
          ],
          "name": "stdout"
        }
      ]
    },
    {
      "cell_type": "code",
      "metadata": {
        "id": "G_YBDVOfnDp_",
        "colab_type": "code",
        "colab": {
          "base_uri": "https://localhost:8080/",
          "height": 68
        },
        "outputId": "7b81fbdc-343b-4fab-ebe6-bd5128893a87"
      },
      "source": [
        "#logical operators: and,or,not\n",
        "a=int(input(\"a value\"))\n",
        "b=int(input(\"b value\"))\n",
        "print(a < b and a!=0,a < b or a != 0,not a!=0,sep=\",\")"
      ],
      "execution_count": null,
      "outputs": [
        {
          "output_type": "stream",
          "text": [
            "a value0\n",
            "b value1\n",
            "False,True,True\n"
          ],
          "name": "stdout"
        }
      ]
    },
    {
      "cell_type": "code",
      "metadata": {
        "id": "ImoPuW39ogyB",
        "colab_type": "code",
        "colab": {
          "base_uri": "https://localhost:8080/",
          "height": 34
        },
        "outputId": "e85c9435-d6b7-45c4-b8d2-bbc94d4826ba"
      },
      "source": [
        "#Membership operators:in,not in\n",
        "list1=[12,23,45,67,53,56]\n",
        "print(12 in list1,1 not in list1,45 not in list1,sep=\"  \")"
      ],
      "execution_count": null,
      "outputs": [
        {
          "output_type": "stream",
          "text": [
            "True  True  False\n"
          ],
          "name": "stdout"
        }
      ]
    },
    {
      "cell_type": "code",
      "metadata": {
        "id": "Emli1dg-th7Z",
        "colab_type": "code",
        "colab": {
          "base_uri": "https://localhost:8080/",
          "height": 34
        },
        "outputId": "12a9f76f-b294-4d72-dcf9-4f5c8667e9a6"
      },
      "source": [
        "if(a<b):\n",
        "  print(\"a is less than b\")\n",
        "elif(a>b):\n",
        "  print(\"a is greater than b\")\n",
        "else:\n",
        "  print(\"a equals to b\")\n"
      ],
      "execution_count": null,
      "outputs": [
        {
          "output_type": "stream",
          "text": [
            "a is less than b\n"
          ],
          "name": "stdout"
        }
      ]
    },
    {
      "cell_type": "code",
      "metadata": {
        "id": "krbLOGYiuC1d",
        "colab_type": "code",
        "colab": {
          "base_uri": "https://localhost:8080/",
          "height": 85
        },
        "outputId": "7c1949ba-6395-4c29-b4ec-5186f98bee60"
      },
      "source": [
        "#find largest of three numbers\n",
        "a=int(input())\n",
        "b=int(input())\n",
        "c=int(input())\n",
        "if(a>b and a>c):\n",
        "  print(\"largest number is a:\",a)\n",
        "elif(b>c):\n",
        "  print(\"largest number is b:\",b)\n",
        "else:\n",
        "  print(\"largest number is c\",c)"
      ],
      "execution_count": null,
      "outputs": [
        {
          "output_type": "stream",
          "text": [
            "1\n",
            "2\n",
            "3\n",
            "largest number is c 3\n"
          ],
          "name": "stdout"
        }
      ]
    },
    {
      "cell_type": "code",
      "metadata": {
        "id": "3GBCWh1pqB79",
        "colab_type": "code",
        "colab": {
          "base_uri": "https://localhost:8080/",
          "height": 51
        },
        "outputId": "041ce38a-5e87-48dd-ba1a-54b29c0b5ae3"
      },
      "source": [
        "#conditional statements:if,else,elif\n",
        "n=input(\"enter a number\")\n",
        "if(a%2==0):\n",
        "  print(\"even number\")\n",
        "else:\n",
        "  print(\"odd number\")\n"
      ],
      "execution_count": null,
      "outputs": [
        {
          "output_type": "stream",
          "text": [
            "enter a number30\n",
            "even number\n"
          ],
          "name": "stdout"
        }
      ]
    },
    {
      "cell_type": "code",
      "metadata": {
        "id": "mjN-mz9irf6l",
        "colab_type": "code",
        "colab": {
          "base_uri": "https://localhost:8080/",
          "height": 51
        },
        "outputId": "3ce0a09e-b14e-492f-8501-cac9582cad1f"
      },
      "source": [
        "#Loops:while,for\n",
        "n=int(input(\"enter n value\"))\n",
        "i=1\n",
        "while i<=n:\n",
        "  print(i,end=\" \")\n",
        "  i=i+1\n",
        "\n"
      ],
      "execution_count": null,
      "outputs": [
        {
          "output_type": "stream",
          "text": [
            "enter n value10\n",
            "1 2 3 4 5 6 7 8 9 10 "
          ],
          "name": "stdout"
        }
      ]
    },
    {
      "cell_type": "code",
      "metadata": {
        "id": "XP_7NRx-v3Lh",
        "colab_type": "code",
        "colab": {
          "base_uri": "https://localhost:8080/",
          "height": 85
        },
        "outputId": "2e1e309b-ccbc-4bb7-8ef2-395334012c85"
      },
      "source": [
        "n=int(input())\n",
        "i=1\n",
        "while i<=n:\n",
        "  print(i)\n",
        "  i=i+2"
      ],
      "execution_count": null,
      "outputs": [
        {
          "output_type": "stream",
          "text": [
            "6\n",
            "1\n",
            "3\n",
            "5\n"
          ],
          "name": "stdout"
        }
      ]
    },
    {
      "cell_type": "code",
      "metadata": {
        "id": "KiJopyscw1q-",
        "colab_type": "code",
        "colab": {}
      },
      "source": [
        ""
      ],
      "execution_count": null,
      "outputs": []
    }
  ]
}