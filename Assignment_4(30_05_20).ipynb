{
  "nbformat": 4,
  "nbformat_minor": 0,
  "metadata": {
    "colab": {
      "name": "Assignment 4(30-05-20)",
      "provenance": []
    },
    "kernelspec": {
      "name": "python3",
      "display_name": "Python 3"
    }
  },
  "cells": [
    {
      "cell_type": "code",
      "metadata": {
        "id": "PN3W4MW390-T",
        "colab_type": "code",
        "colab": {}
      },
      "source": [
        "f=open(\"ss.txt\",\"w\")\n",
        "f.write(\"hello everyone\")\n",
        "f.close()"
      ],
      "execution_count": 0,
      "outputs": []
    },
    {
      "cell_type": "code",
      "metadata": {
        "id": "OuD5rrZ_Cmu3",
        "colab_type": "code",
        "colab": {
          "base_uri": "https://localhost:8080/",
          "height": 67
        },
        "outputId": "263a408a-319f-43fa-eab8-09cdc86f048b"
      },
      "source": [
        "# Count the no.of words,no.of letters,no.of lines available in your file\n",
        "\n",
        "\n",
        "with open('ss.txt') as infile:\n",
        "    lines=0\n",
        "    words=0\n",
        "    characters=0\n",
        "    for line in infile:\n",
        "        wordslist=line.split()\n",
        "        lines=lines+1\n",
        "        words=words+len(wordslist)\n",
        "        characters += sum(len(word) for word in wordslist)\n",
        "print(lines)\n",
        "print(words)\n",
        "print(characters)\n"
      ],
      "execution_count": 2,
      "outputs": [
        {
          "output_type": "stream",
          "text": [
            "1\n",
            "2\n",
            "13\n"
          ],
          "name": "stdout"
        }
      ]
    },
    {
      "cell_type": "code",
      "metadata": {
        "id": "-cu6FzIEC2Wt",
        "colab_type": "code",
        "colab": {}
      },
      "source": [
        "# Copy the content of one file to another\n",
        "\n",
        "with open(\"ss.txt\") as f:\n",
        "    with open(\"cap.txt\", \"w\") as f1:\n",
        "        for line in f:\n",
        "            f1.write(line)"
      ],
      "execution_count": 0,
      "outputs": []
    },
    {
      "cell_type": "code",
      "metadata": {
        "id": "1js2RodWC5Vp",
        "colab_type": "code",
        "colab": {
          "base_uri": "https://localhost:8080/",
          "height": 34
        },
        "outputId": "b83ecf41-309a-4c85-cda0-2cbf1ee81489"
      },
      "source": [
        "# Copy the content of one file to another\n",
        "\n",
        "f=open(\"cap.txt\",\"r\")\n",
        "data=f.read()\n",
        "print(data)\n",
        "f.close()"
      ],
      "execution_count": 4,
      "outputs": [
        {
          "output_type": "stream",
          "text": [
            "hello everyone\n"
          ],
          "name": "stdout"
        }
      ]
    },
    {
      "cell_type": "code",
      "metadata": {
        "id": "GaP7lRtTDG93",
        "colab_type": "code",
        "colab": {}
      },
      "source": [
        "# Rename file\n",
        "import os\n",
        "os.rename( \"cap.txt\", \"test1.txt\" )"
      ],
      "execution_count": 0,
      "outputs": []
    },
    {
      "cell_type": "code",
      "metadata": {
        "id": "9qm5N6kLDWYD",
        "colab_type": "code",
        "colab": {
          "base_uri": "https://localhost:8080/",
          "height": 34
        },
        "outputId": "fba32905-aae5-4219-9c8c-02877d70493c"
      },
      "source": [
        "f=open(\"test1.txt\",\"r\")\n",
        "data=f.read()\n",
        "print(data)\n",
        "f.close()"
      ],
      "execution_count": 6,
      "outputs": [
        {
          "output_type": "stream",
          "text": [
            "hello everyone\n"
          ],
          "name": "stdout"
        }
      ]
    },
    {
      "cell_type": "code",
      "metadata": {
        "id": "Goj2M1k2DbIL",
        "colab_type": "code",
        "colab": {}
      },
      "source": [
        "# remove file\n",
        "import os\n",
        "os.remove(\"test1.txt\")"
      ],
      "execution_count": 0,
      "outputs": []
    },
    {
      "cell_type": "code",
      "metadata": {
        "id": "VqDtRYpDDnGm",
        "colab_type": "code",
        "colab": {
          "base_uri": "https://localhost:8080/",
          "height": 67
        },
        "outputId": "e14263f9-9b69-42e2-e0fa-0448fc26f720"
      },
      "source": [
        "#Display the words starting with letter 'p'\n",
        "l=['pencil','pen','potato','orange','apple','mango']\n",
        "for i in l:\n",
        "    if i.startswith(\"p\"):\n",
        "        print(i)"
      ],
      "execution_count": 8,
      "outputs": [
        {
          "output_type": "stream",
          "text": [
            "pencil\n",
            "pen\n",
            "potato\n"
          ],
          "name": "stdout"
        }
      ]
    }
  ]
}