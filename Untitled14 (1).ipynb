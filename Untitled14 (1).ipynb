{
  "nbformat": 4,
  "nbformat_minor": 0,
  "metadata": {
    "colab": {
      "name": "Untitled14.ipynb",
      "provenance": []
    },
    "kernelspec": {
      "name": "python3",
      "display_name": "Python 3"
    }
  },
  "cells": [
    {
      "cell_type": "code",
      "metadata": {
        "id": "Y4WsuQ1WNi4r",
        "colab_type": "code",
        "colab": {}
      },
      "source": [
        "# answer 1\n",
        "rows = int(input(\"Enter number of rows \"))\n",
        "for i in range(0, rows):\n",
        "   for j in range(0, i + 1):\n",
        "       print(\"*\", end=' ')\n",
        "   print(\"\\r\")"
      ],
      "execution_count": 0,
      "outputs": []
    },
    {
      "cell_type": "code",
      "metadata": {
        "id": "nosvmYS1Pp9Q",
        "colab_type": "code",
        "colab": {}
      },
      "source": [
        "# answer 2\n",
        "k= int(input(\"enter the value of k\"))\n",
        "for i in range (1,11):\n",
        "    print(k, \"*\", i, \"=\", k*i )\n"
      ],
      "execution_count": 0,
      "outputs": []
    },
    {
      "cell_type": "code",
      "metadata": {
        "id": "d0MuW3huRYe-",
        "colab_type": "code",
        "colab": {}
      },
      "source": [
        "# answer 3\n",
        "import cmath\n",
        "a=int(input(\"enter a\"))\n",
        "b=int(input(\"enter b\"))\n",
        "c=int(input(\"enter c\"))\n",
        "d=b**2-4*a*c\n",
        "p= (-b-cmath.sqrt(d))/(2*a)\n",
        "q= (-b-cmath.sqrt(d))/(2*a)\n",
        "print(p,q)\n"
      ],
      "execution_count": 0,
      "outputs": []
    },
    {
      "cell_type": "code",
      "metadata": {
        "id": "0rb_8nSaSr9E",
        "colab_type": "code",
        "colab": {}
      },
      "source": [
        "# answer 4\n",
        "n=int(input('enter n'))\n",
        "print(\"the decimal value of\",n,\":\",bin(n),\"in binary\")\n"
      ],
      "execution_count": 0,
      "outputs": []
    },
    {
      "cell_type": "code",
      "metadata": {
        "id": "CVqi8W_pT17v",
        "colab_type": "code",
        "colab": {}
      },
      "source": [
        "# answer 5\n",
        "n=int(input(\"enter n\"))\n",
        "f1=0\n",
        "f2=1\n",
        "for x in range(0,n):\n",
        "    print(f2,end=' ')\n",
        "    next=f1+f2\n",
        "    f1-f2\n",
        "    f2-next"
      ],
      "execution_count": 0,
      "outputs": []
    },
    {
      "cell_type": "markdown",
      "metadata": {
        "id": "iXp_mKq-q0JU",
        "colab_type": "text"
      },
      "source": [
        "git push full-stack master enumerating objects: 5,done. counting objects: 100% (5/5), done. Delta comparison using up to 4 threads compressingobjects: 100% (3/3), done. writing objects: 100% (4/4), 557 bytes | 557.0 kiB/s, done. Total 4 (delta 0) ,reused 0 (delta 0) To https://github.com/pranithakottha12/Day-3\n",
        "\n"
      ]
    }
  ]
}