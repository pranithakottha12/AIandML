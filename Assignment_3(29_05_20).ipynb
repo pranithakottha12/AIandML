{
  "nbformat": 4,
  "nbformat_minor": 0,
  "metadata": {
    "colab": {
      "name": "Assignment-3(29-05-20)",
      "provenance": []
    },
    "kernelspec": {
      "name": "python3",
      "display_name": "Python 3"
    }
  },
  "cells": [
    {
      "cell_type": "code",
      "metadata": {
        "id": "hZ-PEU-WRmZ6",
        "colab_type": "code",
        "colab": {
          "base_uri": "https://localhost:8080/",
          "height": 50
        },
        "outputId": "5550307d-c6fe-4033-cb7e-5e4881c1fad4"
      },
      "source": [
        "#Create a function to find Factorial of a number using Recursion\n",
        "def factorial(x):\n",
        "    if x==1:\n",
        "        return 1\n",
        "    else:\n",
        "        return x*factorial(x-1)\n",
        "\n",
        "n=int(input(''))\n",
        "f=factorial(n)\n",
        "print (\"factorial  is \",f)"
      ],
      "execution_count": 1,
      "outputs": [
        {
          "output_type": "stream",
          "text": [
            "6\n",
            "factorial  is  720\n"
          ],
          "name": "stdout"
        }
      ]
    },
    {
      "cell_type": "code",
      "metadata": {
        "id": "o6zHPQa4R8nG",
        "colab_type": "code",
        "colab": {
          "base_uri": "https://localhost:8080/",
          "height": 67
        },
        "outputId": "3434dccf-776f-40a2-addc-f404bc9f4388"
      },
      "source": [
        "#Create a function and display ‘n’ Fibonacci numbers using Recursion\n",
        "def fib(n):\n",
        "    if n <= 1:  \n",
        "        return n  \n",
        "    else:  \n",
        "        return(fib(n-1) + fib(n-2))  \n",
        "k= int(input(\"\"))  \n",
        "print(\"Fibonacci sequence:\")  \n",
        "for i in range (k):  \n",
        "       print(fib(i),end=\" \")"
      ],
      "execution_count": 2,
      "outputs": [
        {
          "output_type": "stream",
          "text": [
            "5\n",
            "Fibonacci sequence:\n",
            "0 1 1 2 3 "
          ],
          "name": "stdout"
        }
      ]
    },
    {
      "cell_type": "code",
      "metadata": {
        "id": "zQVD-Q6ESETr",
        "colab_type": "code",
        "colab": {
          "base_uri": "https://localhost:8080/",
          "height": 134
        },
        "outputId": "844166d1-563b-448c-e87f-cd24359e07a6"
      },
      "source": [
        "#Print sum of list of elements without using sum() function\n",
        "num= []\n",
        "total = 0\n",
        "j = 0\n",
        "n = int(input(\"no ofelements \"))\n",
        "for i in range(1, n + 1):\n",
        "    value = int(input(\"enter values \" ))\n",
        "    num.append(value)\n",
        "\n",
        "while(j < n):\n",
        "    total = total + num[j]\n",
        "    j = j + 1\n",
        "print(\"sum of all elements is : \", total)\n"
      ],
      "execution_count": 4,
      "outputs": [
        {
          "output_type": "stream",
          "text": [
            "no ofelements 5\n",
            "enter values 2\n",
            "enter values 6\n",
            "enter values 1\n",
            "enter values 1\n",
            "enter values 3\n",
            "sum of all elements is :  13\n"
          ],
          "name": "stdout"
        }
      ]
    },
    {
      "cell_type": "code",
      "metadata": {
        "id": "atoHNZSJSeTV",
        "colab_type": "code",
        "colab": {
          "base_uri": "https://localhost:8080/",
          "height": 151
        },
        "outputId": "f3a4a84b-2bf5-44ee-b2b0-e37257e678f1"
      },
      "source": [
        "#print only even numbers from the list\n",
        "num = []\n",
        "n = int(input(\"total number of elements : \"))\n",
        "for i in range(1, n + 1):\n",
        "    value = int(input(\"values are: \" ))\n",
        "    num.append(value)\n",
        "print(\"\\nEven Numbers are\")\n",
        "for j in range(n):\n",
        "    if(num[j] % 2 == 0):\n",
        "        print(num[j], end = '   ')"
      ],
      "execution_count": 5,
      "outputs": [
        {
          "output_type": "stream",
          "text": [
            "total number of elements : 4\n",
            "values are: 2\n",
            "values are: 1\n",
            "values are: 4\n",
            "values are: 1\n",
            "\n",
            "Even Numbers are\n",
            "2   4   "
          ],
          "name": "stdout"
        }
      ]
    },
    {
      "cell_type": "code",
      "metadata": {
        "id": "LYAAc8MtSqPE",
        "colab_type": "code",
        "colab": {
          "base_uri": "https://localhost:8080/",
          "height": 50
        },
        "outputId": "801d5c7a-d231-4925-a3ec-9e846a4d05f2"
      },
      "source": [
        "#Write a Python program to get the smallest number from a list and display index of smallest element of the list\n",
        "\n",
        "list=[2,3,1,4,5]\n",
        "print(list.index(min(list)))\n",
        "print(min(list))"
      ],
      "execution_count": 6,
      "outputs": [
        {
          "output_type": "stream",
          "text": [
            "2\n",
            "1\n"
          ],
          "name": "stdout"
        }
      ]
    },
    {
      "cell_type": "code",
      "metadata": {
        "id": "OHDmYci9SwBj",
        "colab_type": "code",
        "colab": {
          "base_uri": "https://localhost:8080/",
          "height": 50
        },
        "outputId": "2ca3a9ac-d80d-4e7a-e792-774d55fb6ac2"
      },
      "source": [
        "#Write a Python function that checks whether a passed string is palindrome or not.\n",
        "def pal(s):\n",
        "    if len(s) < 1:\n",
        "        return True\n",
        "    else:\n",
        "        if s[0] == s[-1]:\n",
        "            return pal(s[1:-1])\n",
        "        else:\n",
        "            return False\n",
        "a=str(input(\"Enter string: \"))\n",
        "if(pal(a)==True):\n",
        "    print(\"it is palindrome\")\n",
        "else:\n",
        "    print(\"not a palindrome\")"
      ],
      "execution_count": 7,
      "outputs": [
        {
          "output_type": "stream",
          "text": [
            "Enter string: dad\n",
            "it is palindrome\n"
          ],
          "name": "stdout"
        }
      ]
    },
    {
      "cell_type": "code",
      "metadata": {
        "id": "CVQZakVCS54r",
        "colab_type": "code",
        "colab": {
          "base_uri": "https://localhost:8080/",
          "height": 151
        },
        "outputId": "38238228-17e3-437d-f840-d394c701080f"
      },
      "source": [
        "#Write a Python program to count the number of even and odd numbers from a series of numbers. \n",
        "\n",
        "num=[]\n",
        "ecount = 0\n",
        "ocount = 0\n",
        "n = int(input(\"total number of elements \"))\n",
        "for i in range(1, n+ 1):\n",
        "    value = int(input(\"values are \"))\n",
        "    num.append(value)\n",
        "for j in range(n):\n",
        "    if(num[j] % 2 == 0):\n",
        "        ecount = ecount + 1\n",
        "    else:\n",
        "        ocount = ocount + 1\n",
        "\n",
        "print(\"total odd numbers =  \", ocount)\n",
        "print(\"total even numbers = \", ecount)"
      ],
      "execution_count": 8,
      "outputs": [
        {
          "output_type": "stream",
          "text": [
            "total number of elements 5\n",
            "values are 21\n",
            "values are 12\n",
            "values are 34\n",
            "values are 56\n",
            "values are 32\n",
            "total odd numbers =   1\n",
            "total even numbers =  4\n"
          ],
          "name": "stdout"
        }
      ]
    },
    {
      "cell_type": "code",
      "metadata": {
        "id": "WuywyDITTIW8",
        "colab_type": "code",
        "colab": {
          "base_uri": "https://localhost:8080/",
          "height": 34
        },
        "outputId": "f8a310fc-6ebe-49d1-efa4-0b1ce376e264"
      },
      "source": [
        "#Write a Python program that prints all the numbers from 0 to 6 except 3 and 6.\n",
        "\n",
        "for x in range(6):\n",
        "    if (x == 3 or x==6):\n",
        "        continue\n",
        "    print(x,end=' ')"
      ],
      "execution_count": 9,
      "outputs": [
        {
          "output_type": "stream",
          "text": [
            "0 1 2 4 5 "
          ],
          "name": "stdout"
        }
      ]
    },
    {
      "cell_type": "code",
      "metadata": {
        "id": "FIET9nfjTPg1",
        "colab_type": "code",
        "colab": {
          "base_uri": "https://localhost:8080/",
          "height": 50
        },
        "outputId": "0d48a9af-add7-4c6f-c98f-ee0b73c590c1"
      },
      "source": [
        "#Write a python function to check whether the given number is prime or not\n",
        "\n",
        "num = int(input(\"enter a number: \"))\n",
        "for i in range(2, num):\n",
        "    if num % i  == 0:\n",
        "        print(\"not prime number\")\n",
        "        break\n",
        "else:\n",
        "    print(\"prime number\")"
      ],
      "execution_count": 10,
      "outputs": [
        {
          "output_type": "stream",
          "text": [
            "enter a number: 5\n",
            "prime number\n"
          ],
          "name": "stdout"
        }
      ]
    },
    {
      "cell_type": "code",
      "metadata": {
        "id": "nhgh8Uv0TWld",
        "colab_type": "code",
        "colab": {
          "base_uri": "https://localhost:8080/",
          "height": 50
        },
        "outputId": "5cb68ebd-9d91-4d60-e979-d685e2980253"
      },
      "source": [
        "#Write a python function to check whether the given number is Adam number or not\n",
        "\n",
        "n =input()\n",
        "rev=n[::-1]\n",
        "nsquare=int(n)**2\n",
        "revsquare=int(rev )**2\n",
        "if int(nsquare )==int(str(revsquare)[::-1]):\n",
        "   print(\" is a adam number\")\n",
        "else:\n",
        "   print(\" is not a adam number\")\n"
      ],
      "execution_count": 11,
      "outputs": [
        {
          "output_type": "stream",
          "text": [
            "122\n",
            " is a adam number\n"
          ],
          "name": "stdout"
        }
      ]
    }
  ]
}