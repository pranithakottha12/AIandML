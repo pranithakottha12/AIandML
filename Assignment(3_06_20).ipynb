{
  "nbformat": 4,
  "nbformat_minor": 0,
  "metadata": {
    "colab": {
      "name": "Assignment(3-06-20)",
      "provenance": []
    },
    "kernelspec": {
      "name": "python3",
      "display_name": "Python 3"
    }
  },
  "cells": [
    {
      "cell_type": "code",
      "metadata": {
        "id": "PaXc5XqHNnrq",
        "colab_type": "code",
        "colab": {
          "base_uri": "https://localhost:8080/",
          "height": 638
        },
        "outputId": "7ca9275b-2ecd-4f36-9f12-d1ca4f470d49"
      },
      "source": [
        "import random\n",
        "\n",
        "response = True\n",
        "\n",
        "words = [\"pizza\", \"pasta\", \"maggi\",\"bread\",\"chips\"]\n",
        "\n",
        "correct_guess = False\n",
        "\n",
        "def update_clue(guessed_letter, secret_word, clue):\n",
        "    index = 0\n",
        "    while index < len(secret_word):\n",
        "        if guessed_letter == secret_word[index]:\n",
        "            clue[index] = guessed_letter\n",
        "        index+= 1\n",
        "\n",
        "while response == True:\n",
        "    lives = 9\n",
        "    secret_word = random.choice(words)\n",
        "    clue = list(\"?????\")\n",
        "    print(\"Type either a letter or  word!\\n\")\n",
        "\n",
        "    while lives > 0:\n",
        "        print(clue)\n",
        "        print(\"Lives left: \",lives)\n",
        "        guess = input(\"Guess a letter or word\\n\")\n",
        "\n",
        "        if guess == secret_word:\n",
        "            correct_guess = True\n",
        "            break\n",
        "\n",
        "        if guess in secret_word:\n",
        "            update_clue(guess, secret_word, clue)\n",
        "            print(\"Correct! Pick another letter...\\n\")\n",
        "\n",
        "        else:\n",
        "            print(\"Incorrect, You lost a life\")\n",
        "            lives-= 1\n",
        "            \n",
        "\n",
        "    if correct_guess:\n",
        "        print(\"You won! \")\n",
        "        break\n",
        "    else:\n",
        "            response = False"
      ],
      "execution_count": 1,
      "outputs": [
        {
          "output_type": "stream",
          "text": [
            "Type either a letter or  word!\n",
            "\n",
            "['?', '?', '?', '?', '?']\n",
            "Lives left:  9\n",
            "Guess a letter or word\n",
            "p\n",
            "Correct! Pick another letter...\n",
            "\n",
            "['p', '?', '?', '?', '?']\n",
            "Lives left:  9\n",
            "Guess a letter or word\n",
            "i\n",
            "Correct! Pick another letter...\n",
            "\n",
            "['p', 'i', '?', '?', '?']\n",
            "Lives left:  9\n",
            "Guess a letter or word\n",
            "a\n",
            "Correct! Pick another letter...\n",
            "\n",
            "['p', 'i', '?', '?', 'a']\n",
            "Lives left:  9\n",
            "Guess a letter or word\n",
            "z\n",
            "Correct! Pick another letter...\n",
            "\n",
            "['p', 'i', 'z', 'z', 'a']\n",
            "Lives left:  9\n",
            "Guess a letter or word\n",
            "z\n",
            "Correct! Pick another letter...\n",
            "\n",
            "['p', 'i', 'z', 'z', 'a']\n",
            "Lives left:  9\n",
            "Guess a letter or word\n",
            "pizza\n",
            "You won! \n"
          ],
          "name": "stdout"
        }
      ]
    }
  ]
}