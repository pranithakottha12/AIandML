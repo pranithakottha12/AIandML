{
  "nbformat": 4,
  "nbformat_minor": 0,
  "metadata": {
    "colab": {
      "name": "Assignment(5-06-20)",
      "provenance": []
    },
    "kernelspec": {
      "name": "python3",
      "display_name": "Python 3"
    }
  },
  "cells": [
    {
      "cell_type": "code",
      "metadata": {
        "id": "drVNMrjDzNz_",
        "colab_type": "code",
        "colab": {}
      },
      "source": [
        "import pandas as pd\n",
        "import numpy as np"
      ],
      "execution_count": 0,
      "outputs": []
    },
    {
      "cell_type": "code",
      "metadata": {
        "id": "_ZTrLZNkzyS9",
        "colab_type": "code",
        "colab": {
          "base_uri": "https://localhost:8080/",
          "height": 487
        },
        "outputId": "2bd02fce-b49d-4e05-92f8-5f9119e13108"
      },
      "source": [
        "# Write a Python program to add, subtract, multiple and divide two Pandas Series. \n",
        "\n",
        "d1 = pd.Series([2, 4, 6, 8, 10])\n",
        "d2 = pd.Series([1, 3, 5, 7, 9])\n",
        "d = d1 + d2\n",
        "print(\"Addition\")\n",
        "print(d)\n",
        "print(\"Subtract:\")\n",
        "d = d1 - d2\n",
        "print(d)\n",
        "print(\"Multiply:\")\n",
        "d = d1 * d2\n",
        "print(d)\n",
        "print(\"Divide:\")\n",
        "d = d1 / d2\n",
        "print(d)"
      ],
      "execution_count": 2,
      "outputs": [
        {
          "output_type": "stream",
          "text": [
            "Addition\n",
            "0     3\n",
            "1     7\n",
            "2    11\n",
            "3    15\n",
            "4    19\n",
            "dtype: int64\n",
            "Subtract:\n",
            "0    1\n",
            "1    1\n",
            "2    1\n",
            "3    1\n",
            "4    1\n",
            "dtype: int64\n",
            "Multiply:\n",
            "0     2\n",
            "1    12\n",
            "2    30\n",
            "3    56\n",
            "4    90\n",
            "dtype: int64\n",
            "Divide:\n",
            "0    2.000000\n",
            "1    1.333333\n",
            "2    1.200000\n",
            "3    1.142857\n",
            "4    1.111111\n",
            "dtype: float64\n"
          ],
          "name": "stdout"
        }
      ]
    },
    {
      "cell_type": "code",
      "metadata": {
        "id": "x2rvPmqbzyZV",
        "colab_type": "code",
        "colab": {
          "base_uri": "https://localhost:8080/",
          "height": 437
        },
        "outputId": "e5b3cd4d-a482-4a37-eff1-13443f3b1ffe"
      },
      "source": [
        "# Write a Pandas program to compute the minimum, 25th percentile, median, 75th, and maximum of a given series. \n",
        "\n",
        "nstate= np.random.RandomState(100)\n",
        "nseries = pd.Series(nstate.normal(10, 4, 20))\n",
        "print(\"Original Series:\")\n",
        "print(nseries)\n",
        "result = np.percentile(nseries, q=[0, 25, 50, 75, 100])\n",
        "print(\"\\nminimum, 25th percentile, median, 75th, and maximum of a given series:\")\n",
        "print(result)"
      ],
      "execution_count": 3,
      "outputs": [
        {
          "output_type": "stream",
          "text": [
            "Original Series:\n",
            "0      3.000938\n",
            "1     11.370722\n",
            "2     14.612143\n",
            "3      8.990256\n",
            "4     13.925283\n",
            "5     12.056875\n",
            "6     10.884719\n",
            "7      5.719827\n",
            "8      9.242017\n",
            "9     11.020006\n",
            "10     8.167892\n",
            "11    11.740654\n",
            "12     7.665620\n",
            "13    13.267388\n",
            "14    12.690883\n",
            "15     9.582355\n",
            "16     7.874878\n",
            "17    14.118931\n",
            "18     8.247458\n",
            "19     5.526727\n",
            "dtype: float64\n",
            "\n",
            "minimum, 25th percentile, median, 75th, and maximum of a given series:\n",
            "[ 3.00093811  8.09463867 10.23353705 12.21537733 14.61214321]\n"
          ],
          "name": "stdout"
        }
      ]
    },
    {
      "cell_type": "code",
      "metadata": {
        "id": "OZQBU-Ai0Ckl",
        "colab_type": "code",
        "colab": {
          "base_uri": "https://localhost:8080/",
          "height": 370
        },
        "outputId": "bc5d1888-cee7-435d-f3e3-a75d5c6aa813"
      },
      "source": [
        "# Write a Pandas program to get the items of a given series not present in another given series. \n",
        "s1 = pd.Series([1, 2, 3, 4, 5])\n",
        "s2 = pd.Series([2, 4, 6, 8, 10])\n",
        "print(\"Original\")\n",
        "print(\"s1:\")\n",
        "print(s1)\n",
        "print(\"s2:\")\n",
        "print(s2)\n",
        "print(\"\\nitems of s1 not present in s2:\")\n",
        "out = s1[~s1.isin(s2)]\n",
        "print(out)"
      ],
      "execution_count": 4,
      "outputs": [
        {
          "output_type": "stream",
          "text": [
            "Original\n",
            "s1:\n",
            "0    1\n",
            "1    2\n",
            "2    3\n",
            "3    4\n",
            "4    5\n",
            "dtype: int64\n",
            "s2:\n",
            "0     2\n",
            "1     4\n",
            "2     6\n",
            "3     8\n",
            "4    10\n",
            "dtype: int64\n",
            "\n",
            "items of s1 not present in s2:\n",
            "0    1\n",
            "2    3\n",
            "4    5\n",
            "dtype: int64\n"
          ],
          "name": "stdout"
        }
      ]
    },
    {
      "cell_type": "code",
      "metadata": {
        "id": "YihM_Xku0ImL",
        "colab_type": "code",
        "colab": {
          "base_uri": "https://localhost:8080/",
          "height": 252
        },
        "outputId": "cd7953c0-d2e6-4219-c3fa-38ba211a361d"
      },
      "source": [
        "#Write a Pandas program to filter words from a given series that contain at least two vowels. \n",
        "\n",
        "from collections import Counter\n",
        "color= pd.Series(['Red', 'Green', 'Orange', 'Pink', 'Yellow', 'White'])\n",
        "print(\"Original Series:\")\n",
        "print(color)\n",
        "print(\"vowels greater than 2:\")\n",
        "out = color.map(lambda c: sum([Counter(c.lower()).get(i, 0) for i in list('aeiou')]) >= 2)\n",
        "print(color[out])"
      ],
      "execution_count": 5,
      "outputs": [
        {
          "output_type": "stream",
          "text": [
            "Original Series:\n",
            "0       Red\n",
            "1     Green\n",
            "2    Orange\n",
            "3      Pink\n",
            "4    Yellow\n",
            "5     White\n",
            "dtype: object\n",
            "vowels greater than 2:\n",
            "1     Green\n",
            "2    Orange\n",
            "4    Yellow\n",
            "5     White\n",
            "dtype: object\n"
          ],
          "name": "stdout"
        }
      ]
    },
    {
      "cell_type": "code",
      "metadata": {
        "id": "QSt6GUj-0PPd",
        "colab_type": "code",
        "colab": {
          "base_uri": "https://localhost:8080/",
          "height": 343
        },
        "outputId": "40aad863-709b-405a-dc83-2024d5427739"
      },
      "source": [
        "#Consider the following as my DataFrame,Write a Pandas program to select the rows where the number of attempts in the examination is greater than 2.\n",
        "\n",
        "exam= {'name': ['Anastasia', 'Dima', 'Katherine', 'James', 'Emily', 'Michael', 'Matthew', 'Laura', 'Kevin', 'Jonas'],\n",
        "        'score': [12.5, 9, 16.5, np.nan, 9, 20, 14.5, np.nan, 8, 19],\n",
        "        'attempts': [1, 3, 2, 3, 2, 3, 1, 1, 2, 1],\n",
        "        'qualify': ['yes', 'no', 'yes', 'no', 'no', 'yes', 'yes', 'no', 'no', 'yes']}\n",
        "s= ['a', 'b', 'c', 'd', 'e', 'f', 'g', 'h', 'i', 'j']\n",
        "df = pd.DataFrame(exam , index=s)\n",
        "df"
      ],
      "execution_count": 6,
      "outputs": [
        {
          "output_type": "execute_result",
          "data": {
            "text/html": [
              "<div>\n",
              "<style scoped>\n",
              "    .dataframe tbody tr th:only-of-type {\n",
              "        vertical-align: middle;\n",
              "    }\n",
              "\n",
              "    .dataframe tbody tr th {\n",
              "        vertical-align: top;\n",
              "    }\n",
              "\n",
              "    .dataframe thead th {\n",
              "        text-align: right;\n",
              "    }\n",
              "</style>\n",
              "<table border=\"1\" class=\"dataframe\">\n",
              "  <thead>\n",
              "    <tr style=\"text-align: right;\">\n",
              "      <th></th>\n",
              "      <th>name</th>\n",
              "      <th>score</th>\n",
              "      <th>attempts</th>\n",
              "      <th>qualify</th>\n",
              "    </tr>\n",
              "  </thead>\n",
              "  <tbody>\n",
              "    <tr>\n",
              "      <th>a</th>\n",
              "      <td>Anastasia</td>\n",
              "      <td>12.5</td>\n",
              "      <td>1</td>\n",
              "      <td>yes</td>\n",
              "    </tr>\n",
              "    <tr>\n",
              "      <th>b</th>\n",
              "      <td>Dima</td>\n",
              "      <td>9.0</td>\n",
              "      <td>3</td>\n",
              "      <td>no</td>\n",
              "    </tr>\n",
              "    <tr>\n",
              "      <th>c</th>\n",
              "      <td>Katherine</td>\n",
              "      <td>16.5</td>\n",
              "      <td>2</td>\n",
              "      <td>yes</td>\n",
              "    </tr>\n",
              "    <tr>\n",
              "      <th>d</th>\n",
              "      <td>James</td>\n",
              "      <td>NaN</td>\n",
              "      <td>3</td>\n",
              "      <td>no</td>\n",
              "    </tr>\n",
              "    <tr>\n",
              "      <th>e</th>\n",
              "      <td>Emily</td>\n",
              "      <td>9.0</td>\n",
              "      <td>2</td>\n",
              "      <td>no</td>\n",
              "    </tr>\n",
              "    <tr>\n",
              "      <th>f</th>\n",
              "      <td>Michael</td>\n",
              "      <td>20.0</td>\n",
              "      <td>3</td>\n",
              "      <td>yes</td>\n",
              "    </tr>\n",
              "    <tr>\n",
              "      <th>g</th>\n",
              "      <td>Matthew</td>\n",
              "      <td>14.5</td>\n",
              "      <td>1</td>\n",
              "      <td>yes</td>\n",
              "    </tr>\n",
              "    <tr>\n",
              "      <th>h</th>\n",
              "      <td>Laura</td>\n",
              "      <td>NaN</td>\n",
              "      <td>1</td>\n",
              "      <td>no</td>\n",
              "    </tr>\n",
              "    <tr>\n",
              "      <th>i</th>\n",
              "      <td>Kevin</td>\n",
              "      <td>8.0</td>\n",
              "      <td>2</td>\n",
              "      <td>no</td>\n",
              "    </tr>\n",
              "    <tr>\n",
              "      <th>j</th>\n",
              "      <td>Jonas</td>\n",
              "      <td>19.0</td>\n",
              "      <td>1</td>\n",
              "      <td>yes</td>\n",
              "    </tr>\n",
              "  </tbody>\n",
              "</table>\n",
              "</div>"
            ],
            "text/plain": [
              "        name  score  attempts qualify\n",
              "a  Anastasia   12.5         1     yes\n",
              "b       Dima    9.0         3      no\n",
              "c  Katherine   16.5         2     yes\n",
              "d      James    NaN         3      no\n",
              "e      Emily    9.0         2      no\n",
              "f    Michael   20.0         3     yes\n",
              "g    Matthew   14.5         1     yes\n",
              "h      Laura    NaN         1      no\n",
              "i      Kevin    8.0         2      no\n",
              "j      Jonas   19.0         1     yes"
            ]
          },
          "metadata": {
            "tags": []
          },
          "execution_count": 6
        }
      ]
    },
    {
      "cell_type": "code",
      "metadata": {
        "id": "SMN6hTqX0ZGD",
        "colab_type": "code",
        "colab": {
          "base_uri": "https://localhost:8080/",
          "height": 84
        },
        "outputId": "01eb4414-98fb-49a9-bc42-aeb0606e94c5"
      },
      "source": [
        "print(df[(df['attempts'] > 2)])"
      ],
      "execution_count": 7,
      "outputs": [
        {
          "output_type": "stream",
          "text": [
            "      name  score  attempts qualify\n",
            "b     Dima    9.0         3      no\n",
            "d    James    NaN         3      no\n",
            "f  Michael   20.0         3     yes\n"
          ],
          "name": "stdout"
        }
      ]
    }
  ]
}