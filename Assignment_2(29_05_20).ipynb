{
  "nbformat": 4,
  "nbformat_minor": 0,
  "metadata": {
    "colab": {
      "name": "Assignment 2(29-05-20)",
      "provenance": []
    },
    "kernelspec": {
      "name": "python3",
      "display_name": "Python 3"
    }
  },
  "cells": [
    {
      "cell_type": "code",
      "metadata": {
        "id": "uD4QKxDbeqy-",
        "colab_type": "code",
        "colab": {
          "base_uri": "https://localhost:8080/",
          "height": 34
        },
        "outputId": "4fc17d29-6568-42d6-a502-4ad179086ed5"
      },
      "source": [
        "#Read the input as two limits and Print the output as Palindrome count between the two limits\n",
        "def num_palindromes(start, end):\n",
        "    count = 0\n",
        "    for i in range(start, end + 1):\n",
        "        if str(i) == str(i)[::-1]:\n",
        "            count += 1\n",
        "    return count\n",
        "count = num_palindromes(1,100)\n",
        "print(count)"
      ],
      "execution_count": 1,
      "outputs": [
        {
          "output_type": "stream",
          "text": [
            "18\n"
          ],
          "name": "stdout"
        }
      ]
    },
    {
      "cell_type": "code",
      "metadata": {
        "id": "peWz6hG1fEtx",
        "colab_type": "code",
        "colab": {
          "base_uri": "https://localhost:8080/",
          "height": 67
        },
        "outputId": "c8ee2355-7b1a-460e-afef-b950a648f044"
      },
      "source": [
        "#Accept a number as an input and check whether the given number is palindrome or not\n",
        "\n",
        "n=int(input(\"enter number\"))\n",
        "s = 0\n",
        "while True:\n",
        "    k = str(n)\n",
        "    if k == k[::-1]:\n",
        "        print(k)\n",
        "        break\n",
        "    else:\n",
        "      m = int(k[::-1])\n",
        "      n += m\n",
        "      s += 1\n",
        "      print(k)"
      ],
      "execution_count": 3,
      "outputs": [
        {
          "output_type": "stream",
          "text": [
            "enter number127\n",
            "127\n",
            "848\n"
          ],
          "name": "stdout"
        }
      ]
    },
    {
      "cell_type": "code",
      "metadata": {
        "id": "JdlUWaGTfJ1t",
        "colab_type": "code",
        "colab": {
          "base_uri": "https://localhost:8080/",
          "height": 50
        },
        "outputId": "ca2f45d2-5708-4ebe-da2a-2a5de7653074"
      },
      "source": [
        "#Accept input as a string and display sum of digits as the output \n",
        "n=input('')\n",
        "sum= 0\n",
        "for x in n:\n",
        "    if x.isdigit() == True:\n",
        "            z = int(x)\n",
        "            sum= sum + z\n",
        "print(sum)"
      ],
      "execution_count": 4,
      "outputs": [
        {
          "output_type": "stream",
          "text": [
            "pranitha123\n",
            "6\n"
          ],
          "name": "stdout"
        }
      ]
    },
    {
      "cell_type": "code",
      "metadata": {
        "id": "2fHV9DJofptI",
        "colab_type": "code",
        "colab": {
          "base_uri": "https://localhost:8080/",
          "height": 50
        },
        "outputId": "4036cbd7-35e8-4bb6-849a-cfd69c2051b2"
      },
      "source": [
        "#Write a program to prompt for a score between 0.0 and 1.0. If the score is out of range, print an error. If the score is between 0.0 and 1.0, print a grade using the following table:\n",
        "\n",
        "score = float(input(\" \"))\n",
        "if score>1.0 or score<0.0 :\n",
        "    print(\"error\")\n",
        "elif score>=0.9 :\n",
        "    print ('A')\n",
        "elif score>=0.8 :\n",
        "    print( 'B')\n",
        "elif score>=0.7 :\n",
        "    print( 'C')\n",
        "elif score>=0.6 :\n",
        "    print( 'D')\n",
        "else :\n",
        "    print( 'F')"
      ],
      "execution_count": 5,
      "outputs": [
        {
          "output_type": "stream",
          "text": [
            " 0.34\n",
            "F\n"
          ],
          "name": "stdout"
        }
      ]
    },
    {
      "cell_type": "code",
      "metadata": {
        "id": "j60-iSR8fwIY",
        "colab_type": "code",
        "colab": {
          "base_uri": "https://localhost:8080/",
          "height": 118
        },
        "outputId": "ef708483-a839-4fba-cbd5-6db31659ef33"
      },
      "source": [
        "#Write a Python program which iterates the integers from 1 to 50. For multiples of three print \"Fizz\" instead of the number and for the multiples of five print \"Buzz\". For numbers which are multiples of both three and five print \"FizzBuzz\".\n",
        "\n",
        "for fizzbuzz in range(6):\n",
        "    if fizzbuzz % 3 == 0 and fizzbuzz % 5 == 0:\n",
        "        print(\"fizzbuzz\")\n",
        "        continue\n",
        "    elif fizzbuzz % 3 == 0:\n",
        "        print(\"fizz\")\n",
        "        continue\n",
        "    elif fizzbuzz % 5 == 0:\n",
        "        print(\"buzz\")\n",
        "        continue\n",
        "    print(fizzbuzz)"
      ],
      "execution_count": 6,
      "outputs": [
        {
          "output_type": "stream",
          "text": [
            "fizzbuzz\n",
            "1\n",
            "2\n",
            "fizz\n",
            "4\n",
            "buzz\n"
          ],
          "name": "stdout"
        }
      ]
    },
    {
      "cell_type": "code",
      "metadata": {
        "id": "i6f-LlmZf4Wg",
        "colab_type": "code",
        "colab": {
          "base_uri": "https://localhost:8080/",
          "height": 84
        },
        "outputId": "3e822f72-68ba-4f6d-cc30-ed80374782fd"
      },
      "source": [
        "#Write a Python program to find the median of three values.\n",
        "a = int(input(\"num1\"))\n",
        "b = int(input(\"num2\"))\n",
        "c = int(input(\"num3\"))\n",
        "\n",
        "if b < a and a < c:\n",
        "    print(a)\n",
        "elif c < a and a < b:\n",
        "    print(a)\n",
        "    \n",
        "elif c < b and b < a:\n",
        "    print(b)\n",
        "elif a < b and b < c:\n",
        "    print(b)\n",
        "    \n",
        "elif b < c and c < a:\n",
        "    print(c)    \n",
        "elif a < c and c < b:\n",
        "    print(c)"
      ],
      "execution_count": 7,
      "outputs": [
        {
          "output_type": "stream",
          "text": [
            "num1126\n",
            "num256\n",
            "num334\n",
            "56\n"
          ],
          "name": "stdout"
        }
      ]
    },
    {
      "cell_type": "code",
      "metadata": {
        "id": "wqnvrp7DgGGC",
        "colab_type": "code",
        "colab": {
          "base_uri": "https://localhost:8080/",
          "height": 84
        },
        "outputId": "8a0142b6-c365-4b48-9197-525116e40ad1"
      },
      "source": [
        "#Accept a string the user and count no.of vowels,consonants and special characters\n",
        "str = input(\"Enter the string :\")\n",
        "vowels = 0\n",
        "consonants = 0\n",
        "symbols = 0\n",
        "str = str.lower()\n",
        "for i in range(0, len(str)):\n",
        "    if(str[i] == 'a'or str[i] == 'e' or str[i] == 'i'\n",
        "       or str[i] == 'o' or str[i] == 'u'):\n",
        "        vowels = vowels + 1\n",
        "    elif ((str[i] >= 'a'and str[i] <= 'z')):\n",
        "            consonants = consonants + 1\n",
        "    else:\n",
        "         symbols = symbols + 1\n",
        "print(\"vowels\" , vowels)\n",
        "print(\"Consonants:\", consonants)\n",
        "print(\"Symbols :\", symbols)\n"
      ],
      "execution_count": 8,
      "outputs": [
        {
          "output_type": "stream",
          "text": [
            "Enter the string :abc123ng\n",
            "vowels 1\n",
            "Consonants: 4\n",
            "Symbols : 3\n"
          ],
          "name": "stdout"
        }
      ]
    },
    {
      "cell_type": "code",
      "metadata": {
        "id": "xsnLiw03gV2i",
        "colab_type": "code",
        "colab": {
          "base_uri": "https://localhost:8080/",
          "height": 34
        },
        "outputId": "b9b7e24c-a4d1-474b-adec-471c23dc70ef"
      },
      "source": [
        "#input:orange  →   output : puboif\n",
        "value = 'orange'\n",
        "var=(chr(ord(value[0])+1))\n",
        "var1=(chr(ord(value[1])+3))\n",
        "var2=(chr(ord(value[2])+1))\n",
        "var3=(chr(ord(value[3])+1))\n",
        "var4=(chr(ord(value[4])+2))\n",
        "var5=(chr(ord(value[5])+1))\n",
        "value=var+var1+var2+var3+var4+var5\n",
        "print(value)"
      ],
      "execution_count": 9,
      "outputs": [
        {
          "output_type": "stream",
          "text": [
            "puboif\n"
          ],
          "name": "stdout"
        }
      ]
    },
    {
      "cell_type": "code",
      "metadata": {
        "id": "ArzHKIcVgeBH",
        "colab_type": "code",
        "colab": {
          "base_uri": "https://localhost:8080/",
          "height": 50
        },
        "outputId": "a4f89a29-359d-43e0-e339-3d90de8e9f70"
      },
      "source": [
        "#count the no.of pairs of a in the given string(Infosys InfyTQ)\n",
        "str=input(\"enter string:  \")\n",
        "count=0\n",
        "i=0\n",
        "k=len(str)\n",
        "while i<k-1:\n",
        "    if(str[i]=='a'):\n",
        "        if(str[i+1]=='a'):\n",
        "            count+=1\n",
        "            i+=1\n",
        "    i+=1\n",
        "print(count)"
      ],
      "execution_count": 11,
      "outputs": [
        {
          "output_type": "stream",
          "text": [
            "enter string:  abababbaabababaaa\n",
            "2\n"
          ],
          "name": "stdout"
        }
      ]
    },
    {
      "cell_type": "code",
      "metadata": {
        "id": "PnfpVT81gsdM",
        "colab_type": "code",
        "colab": {
          "base_uri": "https://localhost:8080/",
          "height": 50
        },
        "outputId": "501f15c1-65c2-4277-cd30-00a97fb23fcf"
      },
      "source": [
        "#Question 3:\n",
        "s=input(\"string : \")\n",
        "count=0\n",
        "i=0\n",
        "while i<(len(s)-1):\n",
        "    if(s[i]=='('):\n",
        "        count+=1\n",
        "    i+=1\n",
        "print(count)"
      ],
      "execution_count": 13,
      "outputs": [
        {
          "output_type": "stream",
          "text": [
            "string : ((((()()()))))()\n",
            "8\n"
          ],
          "name": "stdout"
        }
      ]
    }
  ]
}