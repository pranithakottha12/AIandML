{
  "nbformat": 4,
  "nbformat_minor": 0,
  "metadata": {
    "colab": {
      "name": "Untitled14.ipynb",
      "provenance": [],
      "authorship_tag": "ABX9TyMjNm0CTn1TKIvs6xpmQj4g",
      "include_colab_link": true
    },
    "kernelspec": {
      "name": "python3",
      "display_name": "Python 3"
    }
  },
  "cells": [
    {
      "cell_type": "markdown",
      "metadata": {
        "id": "view-in-github",
        "colab_type": "text"
      },
      "source": [
        "<a href=\"https://colab.research.google.com/github/pranithakottha12/AIandML/blob/master/Untitled14.ipynb\" target=\"_parent\"><img src=\"https://colab.research.google.com/assets/colab-badge.svg\" alt=\"Open In Colab\"/></a>"
      ]
    },
    {
      "cell_type": "code",
      "metadata": {
        "id": "Y4WsuQ1WNi4r",
        "colab_type": "code",
        "colab": {
          "base_uri": "https://localhost:8080/",
          "height": 118
        },
        "outputId": "b233b34c-8099-47c4-a2bf-1a7d03afc8de"
      },
      "source": [
        "# answer 1\n",
        "rows = int(input(\"Enter number of rows \"))\n",
        "for i in range(0, rows):\n",
        "   for j in range(0, i + 1):\n",
        "       print(\"*\", end=' ')\n",
        "   print(\"\\r\")"
      ],
      "execution_count": 8,
      "outputs": [
        {
          "output_type": "stream",
          "text": [
            "Enter number of rows 5\n",
            "* \n",
            "* * \n",
            "* * * \n",
            "* * * * \n",
            "* * * * * \n"
          ],
          "name": "stdout"
        }
      ]
    },
    {
      "cell_type": "code",
      "metadata": {
        "id": "nosvmYS1Pp9Q",
        "colab_type": "code",
        "colab": {
          "base_uri": "https://localhost:8080/",
          "height": 202
        },
        "outputId": "006657e6-9b65-46cc-b685-f3394841a1cd"
      },
      "source": [
        "# answer 2\n",
        "k= int(input(\"enter the value of k\"))\n",
        "for i in range (1,11):\n",
        "    print(k, \"*\", i, \"=\", k*i )\n"
      ],
      "execution_count": 13,
      "outputs": [
        {
          "output_type": "stream",
          "text": [
            "enter the value of k7\n",
            "7 * 1 = 7\n",
            "7 * 2 = 14\n",
            "7 * 3 = 21\n",
            "7 * 4 = 28\n",
            "7 * 5 = 35\n",
            "7 * 6 = 42\n",
            "7 * 7 = 49\n",
            "7 * 8 = 56\n",
            "7 * 9 = 63\n",
            "7 * 10 = 70\n"
          ],
          "name": "stdout"
        }
      ]
    },
    {
      "cell_type": "code",
      "metadata": {
        "id": "d0MuW3huRYe-",
        "colab_type": "code",
        "colab": {
          "base_uri": "https://localhost:8080/",
          "height": 84
        },
        "outputId": "84f9a227-9c79-4027-e322-89d4135b7104"
      },
      "source": [
        "# answer 3\n",
        "import cmath\n",
        "a=int(input(\"enter a\"))\n",
        "b=int(input(\"enter b\"))\n",
        "c=int(input(\"enter c\"))\n",
        "d=b**2-4*a*c\n",
        "p= (-b-cmath.sqrt(d))/(2*a)\n",
        "q= (-b-cmath.sqrt(d))/(2*a)\n",
        "print(p,q)\n"
      ],
      "execution_count": 15,
      "outputs": [
        {
          "output_type": "stream",
          "text": [
            "enter a1\n",
            "enter b2\n",
            "enter c3\n",
            "(-1-1.4142135623730951j) (-1-1.4142135623730951j)\n"
          ],
          "name": "stdout"
        }
      ]
    },
    {
      "cell_type": "code",
      "metadata": {
        "id": "0rb_8nSaSr9E",
        "colab_type": "code",
        "colab": {
          "base_uri": "https://localhost:8080/",
          "height": 50
        },
        "outputId": "f348ab4f-e896-4a85-e28a-2e26f5fbcce0"
      },
      "source": [
        "# answer 4\n",
        "n=int(input('enter n'))\n",
        "print(\"the decimal value of\",n,\":\",bin(n),\"in binary\")\n"
      ],
      "execution_count": 21,
      "outputs": [
        {
          "output_type": "stream",
          "text": [
            "enter n7\n",
            "the decimal value of 7 : 0b111 in binary\n"
          ],
          "name": "stdout"
        }
      ]
    },
    {
      "cell_type": "code",
      "metadata": {
        "id": "CVqi8W_pT17v",
        "colab_type": "code",
        "colab": {
          "base_uri": "https://localhost:8080/",
          "height": 50
        },
        "outputId": "c241500b-eef7-4428-fe24-88b6b88afe81"
      },
      "source": [
        "# answer 5\n",
        "n=int(input(\"enter n\"))\n",
        "f1=0\n",
        "f2=1\n",
        "for x in range(0,n):\n",
        "    print(f2,end=' ')\n",
        "    next=f1+f2\n",
        "    f1-f2\n",
        "    f2-next"
      ],
      "execution_count": 20,
      "outputs": [
        {
          "output_type": "stream",
          "text": [
            "enter n5\n",
            "1 1 1 1 1 "
          ],
          "name": "stdout"
        }
      ]
    },
    {
      "cell_type": "code",
      "metadata": {
        "id": "pRcX_U5Alohy",
        "colab_type": "code",
        "colab": {}
      },
      "source": [
        ""
      ],
      "execution_count": 0,
      "outputs": []
    }
  ]
}